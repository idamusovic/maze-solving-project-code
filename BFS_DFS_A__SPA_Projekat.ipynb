{
  "nbformat": 4,
  "nbformat_minor": 0,
  "metadata": {
    "colab": {
      "provenance": [],
      "authorship_tag": "ABX9TyNc/e/LazQ3f+kQG4Zaz1AV",
      "include_colab_link": true
    },
    "kernelspec": {
      "name": "python3",
      "display_name": "Python 3"
    },
    "language_info": {
      "name": "python"
    }
  },
  "cells": [
    {
      "cell_type": "markdown",
      "metadata": {
        "id": "view-in-github",
        "colab_type": "text"
      },
      "source": [
        "<a href=\"https://colab.research.google.com/github/idamusovic/maze-solving-project-code/blob/main/BFS_DFS_A__SPA_Projekat.ipynb\" target=\"_parent\"><img src=\"https://colab.research.google.com/assets/colab-badge.svg\" alt=\"Open In Colab\"/></a>"
      ]
    },
    {
      "cell_type": "code",
      "execution_count": 1,
      "metadata": {
        "id": "QvHm4wQ-kaUt"
      },
      "outputs": [],
      "source": [
        "def bfs(graph, start_node, end_node):\n",
        "\n",
        "    solution = []\n",
        "    costs = 0\n",
        "\n",
        "    frontier = []\n",
        "    visited = []\n",
        "\n",
        "    frontier.append(start_node)\n",
        "    visited.append(start_node)\n",
        "\n",
        "    while frontier:\n",
        "\n",
        "        selected_node = frontier.pop(0)\n",
        "\n",
        "        if selected_node == end_node:\n",
        "            solution.append(selected_node)\n",
        "            break\n",
        "\n",
        "        solution.append(selected_node)\n",
        "\n",
        "        for neighbour in graph[selected_node]:\n",
        "            if neighbour not in visited:\n",
        "                frontier.append(neighbour)\n",
        "                visited.append(neighbour)\n",
        "\n",
        "        costs += 1\n",
        "\n",
        "    return solution, costs"
      ]
    },
    {
      "cell_type": "code",
      "source": [
        "graph = {\n",
        "    \"A\": [\"B\"],\n",
        "    \"B\": [\"C\"],\n",
        "    \"C\": [\"D\", \"E\"],\n",
        "    \"D\": [],\n",
        "    \"E\": [\"F\"],\n",
        "    \"F\": [\"L\", \"G\"],\n",
        "    \"G\": [\"P\", \"H\"],\n",
        "    \"H\": [\"I\"],\n",
        "    \"I\": [\"J\", \"K\"],\n",
        "    \"J\": [],\n",
        "    \"K\": [],\n",
        "    \"P\": [],\n",
        "    \"L\": [\"M\"],\n",
        "    \"M\": [\"N\"],\n",
        "    \"N\": [\"O\"],\n",
        "    \"O\": []\n",
        "}\n",
        "\n",
        "start_state = \"A\"\n",
        "\n",
        "goal_state = \"K\""
      ],
      "metadata": {
        "id": "4_4ECKI8kd3X"
      },
      "execution_count": 2,
      "outputs": []
    },
    {
      "cell_type": "code",
      "source": [
        "solution, costs = bfs(graph, start_state, goal_state)\n",
        "\n",
        "print(\"Solution: {}\".format(solution))\n",
        "print(\"Costs: {}\".format(costs))"
      ],
      "metadata": {
        "colab": {
          "base_uri": "https://localhost:8080/"
        },
        "id": "V4zeYAdEkh-Q",
        "outputId": "d3688fc7-a98e-4c01-9450-c5f5a068f4af"
      },
      "execution_count": 3,
      "outputs": [
        {
          "output_type": "stream",
          "name": "stdout",
          "text": [
            "Solution: ['A', 'B', 'C', 'D', 'E', 'F', 'L', 'G', 'M', 'P', 'H', 'N', 'I', 'O', 'J', 'K']\n",
            "Costs: 15\n"
          ]
        }
      ]
    },
    {
      "cell_type": "code",
      "source": [
        "def dfs(graph, start_node, end_node):\n",
        "    solution = []\n",
        "    costs = 0\n",
        "\n",
        "    frontier = []\n",
        "    visited = []\n",
        "\n",
        "    frontier.append(start_node)\n",
        "    visited.append(start_node)\n",
        "\n",
        "    while frontier:\n",
        "        selected_node = frontier.pop()\n",
        "\n",
        "        if selected_node == end_node:\n",
        "            solution.append(selected_node)\n",
        "            break\n",
        "\n",
        "        solution.append(selected_node)\n",
        "\n",
        "        for neighbour in graph[selected_node]:\n",
        "            if neighbour not in visited:\n",
        "                frontier.append(neighbour)\n",
        "                visited.append(neighbour)\n",
        "\n",
        "        costs += 1\n",
        "\n",
        "    return solution, costs\n"
      ],
      "metadata": {
        "id": "D53ZMlbBy5Sy"
      },
      "execution_count": 4,
      "outputs": []
    },
    {
      "cell_type": "code",
      "source": [
        "graph = {\n",
        "    \"A\": [\"B\"],\n",
        "    \"B\": [\"C\"],\n",
        "    \"C\": [\"D\", \"E\"],\n",
        "    \"D\": [],\n",
        "    \"E\": [\"F\"],\n",
        "    \"F\": [\"L\", \"G\"],\n",
        "    \"G\": [\"P\", \"H\"],\n",
        "    \"H\": [\"I\"],\n",
        "    \"I\": [\"J\", \"K\"],\n",
        "    \"J\": [],\n",
        "    \"K\": [],\n",
        "    \"P\": [],\n",
        "    \"L\": [\"M\"],\n",
        "    \"M\": [\"N\"],\n",
        "    \"N\": [\"O\"],\n",
        "    \"O\": []\n",
        "}\n",
        "\n",
        "start_node = 'A'\n",
        "end_node = 'K'\n",
        "\n",
        "solution, costs = dfs(graph, start_node, end_node)\n",
        "\n",
        "print(\"Solution Path:\", solution)\n",
        "print(\"Costs:\", costs)\n"
      ],
      "metadata": {
        "colab": {
          "base_uri": "https://localhost:8080/"
        },
        "id": "qsRZGR1cBCng",
        "outputId": "b5f3c46f-2c96-493a-dcbe-20d809cb4c52"
      },
      "execution_count": 5,
      "outputs": [
        {
          "output_type": "stream",
          "name": "stdout",
          "text": [
            "Solution Path: ['A', 'B', 'C', 'E', 'F', 'G', 'H', 'I', 'K']\n",
            "Costs: 8\n"
          ]
        }
      ]
    },
    {
      "cell_type": "code",
      "source": [
        "import heapq\n",
        "\n",
        "def heuristic(a, b):\n",
        "    return 0\n",
        "\n",
        "def a_star(graph, start_node, end_node):\n",
        "    solution = []\n",
        "    costs = 0\n",
        "\n",
        "    frontier = []\n",
        "    heapq.heappush(frontier, (0, start_node))\n",
        "\n",
        "    cost_so_far = {start_node: 0}\n",
        "    came_from = {start_node: None}\n",
        "\n",
        "    while frontier:\n",
        "        _, current = heapq.heappop(frontier)\n",
        "\n",
        "        if current == end_node:\n",
        "            while current:\n",
        "                solution.append(current)\n",
        "                current = came_from[current]\n",
        "            solution.reverse()\n",
        "            break\n",
        "\n",
        "        for neighbor, weight in graph[current].items():\n",
        "            new_cost = cost_so_far[current] + weight\n",
        "            if neighbor not in cost_so_far or new_cost < cost_so_far[neighbor]:\n",
        "                cost_so_far[neighbor] = new_cost\n",
        "                priority = new_cost + heuristic(end_node, neighbor)\n",
        "                heapq.heappush(frontier, (priority, neighbor))\n",
        "                came_from[neighbor] = current\n",
        "\n",
        "        costs += 1\n",
        "\n",
        "    return solution, costs\n",
        "\n",
        "graph = {\n",
        "    \"A\": {\"B\": 1},\n",
        "    \"B\": {\"C\": 1},\n",
        "    \"C\": {\"D\": 5, \"E\": 1},\n",
        "    \"D\": {},\n",
        "    \"E\": {\"F\": 1},\n",
        "    \"F\": {\"L\": 5, \"G\": 1},\n",
        "    \"G\": {\"P\": 4, \"H\": 1},\n",
        "    \"H\": {\"I\": 1},\n",
        "    \"I\": {\"J\": 2, \"K\": 1},\n",
        "    \"J\": {},\n",
        "    \"K\": {},\n",
        "    \"P\": {},\n",
        "    \"L\": {\"M\": 5},\n",
        "    \"M\": {\"N\": 4},\n",
        "    \"N\": {\"O\": 7},\n",
        "    \"O\": {}\n",
        "}\n",
        "\n",
        "start_node = 'A'\n",
        "end_node = 'K'\n",
        "\n",
        "solution, costs = a_star(graph, start_node, end_node)\n",
        "\n",
        "print(\"Solution Path:\", solution)\n",
        "print(\"Costs:\", costs)\n"
      ],
      "metadata": {
        "colab": {
          "base_uri": "https://localhost:8080/"
        },
        "id": "pGTLJyHhEKAp",
        "outputId": "1722ae6b-1683-49ef-cfbf-3943f52944ca"
      },
      "execution_count": 7,
      "outputs": [
        {
          "output_type": "stream",
          "name": "stdout",
          "text": [
            "Solution Path: ['A', 'B', 'C', 'E', 'F', 'G', 'H', 'I', 'K']\n",
            "Costs: 9\n"
          ]
        }
      ]
    },
    {
      "cell_type": "code",
      "source": [],
      "metadata": {
        "id": "RDuYfITYESFn"
      },
      "execution_count": null,
      "outputs": []
    }
  ]
}